{
 "cells": [
  {
   "cell_type": "markdown",
   "metadata": {},
   "source": [
    "# **#前処理**"
   ]
  },
  {
   "cell_type": "code",
   "execution_count": 24,
   "metadata": {},
   "outputs": [],
   "source": [
    "import pandas as pd\n",
    "\n",
    "train_data = pd.read_csv('/home-asustor/teramoto/SIGNATE/EX/StockPrice_prediction/data/train.csv')\n",
    "test_data = pd.read_csv('/home-asustor/teramoto/SIGNATE/EX/StockPrice_prediction/data/test.csv')"
   ]
  },
  {
   "cell_type": "code",
   "execution_count": 25,
   "metadata": {},
   "outputs": [
    {
     "name": "stdout",
     "output_type": "stream",
     "text": [
      "Date_diff\n",
      "1.0    1591\n",
      "3.0     362\n",
      "4.0      57\n",
      "2.0      14\n",
      "5.0       1\n",
      "Name: count, dtype: int64\n"
     ]
    }
   ],
   "source": [
    "# 日付の間隔を確認\n",
    "train_data['Date'] = pd.to_datetime(train_data['Date'])\n",
    "train_data = train_data.sort_values('Date')\n",
    "train_data['Date_diff'] = train_data['Date'].diff().dt.days\n",
    "\n",
    "# 日付の間隔がどのようになっているか確認\n",
    "print(train_data['Date_diff'].value_counts())\n"
   ]
  },
  {
   "cell_type": "markdown",
   "metadata": {},
   "source": [
    "# **#モデルの構築**"
   ]
  },
  {
   "cell_type": "code",
   "execution_count": 26,
   "metadata": {},
   "outputs": [
    {
     "name": "stdout",
     "output_type": "stream",
     "text": [
      "Accuracy: 0.9104477611940298\n"
     ]
    }
   ],
   "source": [
    "from sklearn.model_selection import train_test_split\n",
    "from sklearn.ensemble import RandomForestClassifier\n",
    "from sklearn.metrics import accuracy_score\n",
    "\n",
    "# ボリンジャーバンドの計算\n",
    "train_data['SMA20'] = train_data['Close'].rolling(window=20).mean()\n",
    "train_data['STD20'] = train_data['Close'].rolling(window=20).std()\n",
    "train_data['Upper Band'] = train_data['SMA20'] + (train_data['STD20'] * 2)\n",
    "train_data['Lower Band'] = train_data['SMA20'] - (train_data['STD20'] * 2)\n",
    "\n",
    "# ボリンジャーバンドを利用した予測ラベル\n",
    "train_data['Signal'] = 0  # デフォルトは0（シグナルなし）\n",
    "\n",
    "# 上部バンドを超えた場合に売りシグナルをセット\n",
    "train_data.loc[train_data['Close'] > train_data['Upper Band'], 'Signal'] = -1\n",
    "\n",
    "# 下部バンドを下回った場合に買いシグナルをセット\n",
    "train_data.loc[train_data['Close'] < train_data['Lower Band'], 'Signal'] = 1\n",
    "\n",
    "# 欠損値を補完または削除\n",
    "train_data.dropna(inplace=True)  # 欠損値を削除\n",
    "\n",
    "# 特徴量と目的変数の定義\n",
    "X = train_data[['SMA20', 'Upper Band', 'Lower Band']]\n",
    "y = train_data['Signal']\n",
    "\n",
    "# 学習データと検証データに分割\n",
    "X_train, X_val, y_train, y_val = train_test_split(X, y, test_size=0.2, random_state=42)\n",
    "\n",
    "# モデルの構築と学習\n",
    "model = RandomForestClassifier(n_estimators=100, random_state=42)\n",
    "model.fit(X_train, y_train)\n",
    "\n",
    "# 検証データでの予測と評価\n",
    "y_pred = model.predict(X_val)\n",
    "print(\"Accuracy:\", accuracy_score(y_val, y_pred))\n"
   ]
  },
  {
   "cell_type": "code",
   "execution_count": 27,
   "metadata": {},
   "outputs": [],
   "source": [
    "# テストデータにもボリンジャーバンドを適用\n",
    "test_data['SMA20'] = test_data['Close'].rolling(window=20).mean()\n",
    "test_data['STD20'] = test_data['Close'].rolling(window=20).std()\n",
    "test_data['Upper Band'] = test_data['SMA20'] + (test_data['STD20'] * 2)\n",
    "test_data['Lower Band'] = test_data['SMA20'] - (test_data['STD20'] * 2)\n",
    "\n",
    "# 欠損値を削除または補完\n",
    "test_data.dropna(inplace=True)  # 欠損値を削除する場合\n",
    "\n",
    "# 特徴量の選択\n",
    "X_test = test_data[['SMA20', 'Upper Band', 'Lower Band']]\n",
    "\n",
    "# テストデータでの予測\n",
    "test_pred = model.predict(X_test)\n",
    "\n",
    "# 結果を保存する\n",
    "result = pd.DataFrame({'Date': test_data['Date'], 'Predicted_Signal': test_pred})\n",
    "result.to_csv('/home-asustor/teramoto/SIGNATE/EX/StockPrice_prediction/data/submission_bollinger.csv', index=False)\n"
   ]
  }
 ],
 "metadata": {
  "kernelspec": {
   "display_name": "detectron2",
   "language": "python",
   "name": "python3"
  },
  "language_info": {
   "codemirror_mode": {
    "name": "ipython",
    "version": 3
   },
   "file_extension": ".py",
   "mimetype": "text/x-python",
   "name": "python",
   "nbconvert_exporter": "python",
   "pygments_lexer": "ipython3",
   "version": "3.8.19"
  }
 },
 "nbformat": 4,
 "nbformat_minor": 2
}
