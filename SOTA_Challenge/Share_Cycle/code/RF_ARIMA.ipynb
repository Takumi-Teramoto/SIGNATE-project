{
 "cells": [
  {
   "cell_type": "code",
   "execution_count": 1,
   "metadata": {},
   "outputs": [
    {
     "name": "stdout",
     "output_type": "stream",
     "text": [
      "Missing values in y_train: 194501\n"
     ]
    },
    {
     "name": "stderr",
     "output_type": "stream",
     "text": [
      "/tmp/ipykernel_7605/262214990.py:31: SettingWithCopyWarning: \n",
      "A value is trying to be set on a copy of a slice from a DataFrame\n",
      "\n",
      "See the caveats in the documentation: https://pandas.pydata.org/pandas-docs/stable/user_guide/indexing.html#returning-a-view-versus-a-copy\n",
      "  y_train.fillna(0, inplace=True)\n",
      "/tmp/ipykernel_7605/262214990.py:38: SettingWithCopyWarning: \n",
      "A value is trying to be set on a copy of a slice from a DataFrame\n",
      "\n",
      "See the caveats in the documentation: https://pandas.pydata.org/pandas-docs/stable/user_guide/indexing.html#returning-a-view-versus-a-copy\n",
      "  X_train.fillna(0, inplace=True)\n",
      "/tmp/ipykernel_7605/262214990.py:39: SettingWithCopyWarning: \n",
      "A value is trying to be set on a copy of a slice from a DataFrame\n",
      "\n",
      "See the caveats in the documentation: https://pandas.pydata.org/pandas-docs/stable/user_guide/indexing.html#returning-a-view-versus-a-copy\n",
      "  X_test.fillna(0, inplace=True)\n"
     ]
    },
    {
     "name": "stdout",
     "output_type": "stream",
     "text": [
      "        id  predicted_bikes_available\n",
      "8761  8761                          9\n",
      "8762  8762                          9\n",
      "8763  8763                          9\n",
      "8764  8764                          9\n",
      "8765  8765                          9\n"
     ]
    },
    {
     "name": "stderr",
     "output_type": "stream",
     "text": [
      "/tmp/ipykernel_7605/262214990.py:46: SettingWithCopyWarning: \n",
      "A value is trying to be set on a copy of a slice from a DataFrame.\n",
      "Try using .loc[row_indexer,col_indexer] = value instead\n",
      "\n",
      "See the caveats in the documentation: https://pandas.pydata.org/pandas-docs/stable/user_guide/indexing.html#returning-a-view-versus-a-copy\n",
      "  test_data['predicted_bikes_available'] = model.predict(X_test)\n",
      "/tmp/ipykernel_7605/262214990.py:47: SettingWithCopyWarning: \n",
      "A value is trying to be set on a copy of a slice from a DataFrame.\n",
      "Try using .loc[row_indexer,col_indexer] = value instead\n",
      "\n",
      "See the caveats in the documentation: https://pandas.pydata.org/pandas-docs/stable/user_guide/indexing.html#returning-a-view-versus-a-copy\n",
      "  test_data['predicted_bikes_available'] = test_data['predicted_bikes_available'].round().astype(int)\n"
     ]
    }
   ],
   "source": [
    "import pandas as pd\n",
    "from sklearn.ensemble import RandomForestRegressor\n",
    "from sklearn.model_selection import train_test_split\n",
    "from sklearn.metrics import mean_squared_error\n",
    "\n",
    "# Step 1: データの読み込み\n",
    "status_data = pd.read_csv('/home-asustor/teramoto/SIGNATE/SOTA_Challenge/Share_Cycle/data/status.csv')\n",
    "weather_data = pd.read_csv('/home-asustor/teramoto/SIGNATE/SOTA_Challenge/Share_Cycle/data/weather.csv')\n",
    "\n",
    "# 天気データの日付と時間を抽出\n",
    "weather_data['date'] = pd.to_datetime(weather_data['date'])\n",
    "weather_data['year'] = weather_data['date'].dt.year\n",
    "weather_data['month'] = weather_data['date'].dt.month\n",
    "weather_data['day'] = weather_data['date'].dt.day\n",
    "\n",
    "# Step 2: データのマージ\n",
    "status_data = pd.merge(status_data, weather_data, on=['year', 'month', 'day'], how='left')\n",
    "\n",
    "# Step 3: データのフィルタリング（晴れの日のデータ）\n",
    "sunny_data = status_data[status_data['events'].isna()]\n",
    "\n",
    "# Step 4: トレーニングデータの準備 (sunny_data かつ predict == 0)\n",
    "train_data = sunny_data[sunny_data['predict'] == 0]\n",
    "X_train = train_data[['max_temperature', 'mean_humidity', 'wind_dir_degrees', 'max_wind_Speed']]\n",
    "y_train = train_data['bikes_available']\n",
    "\n",
    "# 欠損値の確認\n",
    "print(f\"Missing values in y_train: {y_train.isna().sum()}\")\n",
    "\n",
    "# 欠損値を0で埋める\n",
    "y_train.fillna(0, inplace=True)\n",
    "\n",
    "# Step 5: テストデータの準備 (predict == 1のデータを全体から取得)\n",
    "test_data = status_data[status_data['predict'] == 1]\n",
    "X_test = test_data[['max_temperature', 'mean_humidity', 'wind_dir_degrees', 'max_wind_Speed']]\n",
    "\n",
    "# 欠損値の処理\n",
    "X_train.fillna(0, inplace=True)\n",
    "X_test.fillna(0, inplace=True)\n",
    "\n",
    "# Step 6: モデルの訓練\n",
    "model = RandomForestRegressor(n_estimators=100, random_state=42)\n",
    "model.fit(X_train, y_train)\n",
    "\n",
    "# Step 7: 予測の実行\n",
    "test_data['predicted_bikes_available'] = model.predict(X_test)\n",
    "test_data['predicted_bikes_available'] = test_data['predicted_bikes_available'].round().astype(int)\n",
    "\n",
    "# Step 8: 結果の表示と保存\n",
    "print(test_data[['id', 'predicted_bikes_available']].head())\n",
    "\n",
    "# 予測結果をファイルに保存\n",
    "output_data = test_data[['id', 'predicted_bikes_available']]\n",
    "output_data.to_csv('/home-asustor/teramoto/SIGNATE/SOTA_Challenge/Share_Cycle/data/predicted_bikes_available.csv', index=False, header=False)\n"
   ]
  }
 ],
 "metadata": {
  "kernelspec": {
   "display_name": "detectron2",
   "language": "python",
   "name": "python3"
  },
  "language_info": {
   "codemirror_mode": {
    "name": "ipython",
    "version": 3
   },
   "file_extension": ".py",
   "mimetype": "text/x-python",
   "name": "python",
   "nbconvert_exporter": "python",
   "pygments_lexer": "ipython3",
   "version": "3.8.19"
  }
 },
 "nbformat": 4,
 "nbformat_minor": 2
}
