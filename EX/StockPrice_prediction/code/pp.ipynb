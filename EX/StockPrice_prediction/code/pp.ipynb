{
 "cells": [
  {
   "cell_type": "code",
   "execution_count": 1,
   "metadata": {},
   "outputs": [
    {
     "name": "stdout",
     "output_type": "stream",
     "text": [
      "           Date  Signal\n",
      "0    2012-01-26       0\n",
      "1    2012-02-09       1\n",
      "2    2012-02-24       1\n",
      "3    2012-03-09       1\n",
      "4    2012-03-23       0\n",
      "..          ...     ...\n",
      "195  2019-10-25       1\n",
      "196  2019-11-08       1\n",
      "197  2019-11-22       1\n",
      "198  2019-12-09       1\n",
      "199  2019-12-23       1\n",
      "\n",
      "[200 rows x 2 columns]\n"
     ]
    }
   ],
   "source": [
    "import pandas as pd\n",
    "\n",
    "# StockUp.csv の読み込み\n",
    "file_path = '/home-asustor/teramoto/SIGNATE/EX/StockPrice_prediction/data/StockUp.csv'\n",
    "data = pd.read_csv(file_path, header=None, names=['Date', 'Signal'])\n",
    "\n",
    "# 日付のフォーマットを修正\n",
    "data['Date'] = pd.to_datetime(data['Date'], format='%Y/%m/%d').dt.strftime('%Y-%m-%d')\n",
    "\n",
    "# 修正後のデータを再度保存\n",
    "data.to_csv(file_path, index=False, header=False)\n",
    "\n",
    "# 結果を表示\n",
    "print(data)\n"
   ]
  }
 ],
 "metadata": {
  "kernelspec": {
   "display_name": "detectron2",
   "language": "python",
   "name": "python3"
  },
  "language_info": {
   "codemirror_mode": {
    "name": "ipython",
    "version": 3
   },
   "file_extension": ".py",
   "mimetype": "text/x-python",
   "name": "python",
   "nbconvert_exporter": "python",
   "pygments_lexer": "ipython3",
   "version": "3.8.19"
  }
 },
 "nbformat": 4,
 "nbformat_minor": 2
}
