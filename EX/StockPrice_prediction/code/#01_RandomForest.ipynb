{
 "cells": [
  {
   "cell_type": "markdown",
   "metadata": {},
   "source": [
    "# **#前処理**"
   ]
  },
  {
   "cell_type": "code",
   "execution_count": 42,
   "metadata": {},
   "outputs": [],
   "source": [
    "import pandas as pd\n",
    "\n",
    "train_data = pd.read_csv('/home-asustor/teramoto/SIGNATE/EX/StockPrice_prediction/data/train.csv')\n",
    "test_data = pd.read_csv('/home-asustor/teramoto/SIGNATE/EX/StockPrice_prediction/data/test.csv')"
   ]
  },
  {
   "cell_type": "code",
   "execution_count": 43,
   "metadata": {},
   "outputs": [
    {
     "name": "stdout",
     "output_type": "stream",
     "text": [
      "Date_diff\n",
      "1.0    1591\n",
      "3.0     362\n",
      "4.0      57\n",
      "2.0      14\n",
      "5.0       1\n",
      "Name: count, dtype: int64\n"
     ]
    }
   ],
   "source": [
    "# 日付の間隔を確認\n",
    "train_data['Date'] = pd.to_datetime(train_data['Date'])\n",
    "train_data = train_data.sort_values('Date')\n",
    "train_data['Date_diff'] = train_data['Date'].diff().dt.days\n",
    "\n",
    "# 日付の間隔がどのようになっているか確認\n",
    "print(train_data['Date_diff'].value_counts())\n"
   ]
  },
  {
   "cell_type": "markdown",
   "metadata": {},
   "source": [
    "# **#モデルの構築**"
   ]
  },
  {
   "cell_type": "code",
   "execution_count": 22,
   "metadata": {},
   "outputs": [
    {
     "name": "stdout",
     "output_type": "stream",
     "text": [
      "Accuracy: 0.47512437810945274\n"
     ]
    }
   ],
   "source": [
    "import pandas as pd\n",
    "\n",
    "# データの読み込み\n",
    "train_data = pd.read_csv('/home-asustor/teramoto/SIGNATE/EX/StockPrice_prediction/data/train.csv')\n",
    "test_data = pd.read_csv('/home-asustor/teramoto/SIGNATE/EX/StockPrice_prediction/data/test.csv')\n",
    "\n",
    "from sklearn.model_selection import train_test_split\n",
    "from sklearn.ensemble import RandomForestClassifier\n",
    "from sklearn.metrics import accuracy_score\n",
    "\n",
    "# ボリンジャーバンドの計算\n",
    "train_data['SMA20'] = train_data['Close'].rolling(window=20).mean()\n",
    "train_data['STD20'] = train_data['Close'].rolling(window=20).std()\n",
    "train_data['Upper Band'] = train_data['SMA20'] + (train_data['STD20'] * 2)\n",
    "train_data['Lower Band'] = train_data['SMA20'] - (train_data['STD20'] * 2)\n",
    "\n",
    "# 次の日の終値と比較してSignalを設定\n",
    "train_data['Next_Close'] = train_data['Close'].shift(-1)\n",
    "\n",
    "# Signalの初期化（次の日の終値と比較）\n",
    "train_data['Signal'] = 0\n",
    "\n",
    "# 次の日の終値を下回った場合に1をセット\n",
    "train_data.loc[train_data['Close'] > train_data['Next_Close'], 'Signal'] = 0\n",
    "train_data.loc[train_data['Close'] < train_data['Next_Close'], 'Signal'] = 1\n",
    "\n",
    "# 欠損値を削除（最終行のNext_CloseはNaNになるため）\n",
    "train_data.dropna(inplace=True)\n",
    "\n",
    "# 特徴量と目的変数の定義\n",
    "X = train_data[['SMA20', 'Upper Band', 'Lower Band']]\n",
    "y = train_data['Signal']\n",
    "\n",
    "# 学習データと検証データに分割\n",
    "X_train, X_val, y_train, y_val = train_test_split(X, y, test_size=0.2, random_state=42)\n",
    "\n",
    "# モデルの構築と学習\n",
    "model = RandomForestClassifier(n_estimators=100, random_state=42)\n",
    "model.fit(X_train, y_train)\n",
    "\n",
    "# 検証データでの予測と評価\n",
    "y_pred = model.predict(X_val)\n",
    "print(\"Accuracy:\", accuracy_score(y_val, y_pred))\n",
    "\n",
    "# テストデータにもボリンジャーバンドを適用\n",
    "test_data['SMA20'] = test_data['Close'].rolling(window=20).mean()\n",
    "test_data['STD20'] = test_data['Close'].rolling(window=20).std()\n",
    "test_data['Upper Band'] = test_data['SMA20'] + (test_data['STD20'] * 2)\n",
    "test_data['Lower Band'] = test_data['SMA20'] - (test_data['STD20'] * 2)\n",
    "\n",
    "# 欠損値を削除\n",
    "test_data.dropna(inplace=True)\n",
    "\n",
    "# 特徴量の選択\n",
    "X_test = test_data[['SMA20', 'Upper Band', 'Lower Band']]\n",
    "\n",
    "# テストデータでの予測\n",
    "test_pred = model.predict(X_test)\n",
    "\n",
    "# 結果を保存する\n",
    "result = pd.DataFrame({'Date': test_data['Date'], 'Predicted_Signal': test_pred})\n",
    "result.to_csv('/home-asustor/teramoto/SIGNATE/EX/StockPrice_prediction/data/submission_bollinger.csv', index=False, header=False)\n"
   ]
  },
  {
   "cell_type": "code",
   "execution_count": 15,
   "metadata": {},
   "outputs": [
    {
     "name": "stdout",
     "output_type": "stream",
     "text": [
      "Accuracy: 0.47512437810945274\n",
      "          Date  Predicted_Signal\n",
      "2   2012-01-23                 1\n",
      "3   2012-01-24                 1\n",
      "4   2012-01-25                 0\n",
      "5   2012-01-26                 0\n",
      "6   2012-02-02                 0\n",
      "7   2012-02-03                 1\n",
      "8   2012-02-06                 1\n",
      "9   2012-02-07                 1\n",
      "10  2012-02-08                 1\n",
      "11  2012-02-09                 1\n",
      "12  2012-02-16                 1\n",
      "13  2012-02-17                 1\n",
      "14  2012-02-21                 1\n",
      "15  2012-02-22                 1\n",
      "16  2012-02-23                 1\n",
      "17  2012-02-24                 1\n",
      "18  2012-03-02                 1\n",
      "19  2012-03-05                 1\n"
     ]
    }
   ],
   "source": [
    "import pandas as pd\n",
    "\n",
    "# データの読み込み\n",
    "train_data = pd.read_csv('/home-asustor/teramoto/SIGNATE/EX/StockPrice_prediction/data/train.csv')\n",
    "test_data = pd.read_csv('/home-asustor/teramoto/SIGNATE/EX/StockPrice_prediction/data/test.csv')\n",
    "\n",
    "from sklearn.model_selection import train_test_split\n",
    "from sklearn.ensemble import RandomForestClassifier\n",
    "from sklearn.metrics import accuracy_score\n",
    "\n",
    "# ボリンジャーバンドの計算\n",
    "train_data['SMA20'] = train_data['Close'].rolling(window=20).mean()\n",
    "train_data['STD20'] = train_data['Close'].rolling(window=20).std()\n",
    "train_data['Upper Band'] = train_data['SMA20'] + (train_data['STD20'] * 2)\n",
    "train_data['Lower Band'] = train_data['SMA20'] - (train_data['STD20'] * 2)\n",
    "\n",
    "# 次の日の終値と比較してSignalを設定\n",
    "train_data['Next_Close'] = train_data['Close'].shift(-1)\n",
    "\n",
    "# Signalの初期化（次の日の終値と比較）\n",
    "train_data['Signal'] = 0\n",
    "\n",
    "# 次の日の終値を下回った場合に1をセット\n",
    "train_data.loc[train_data['Close'] > train_data['Next_Close'], 'Signal'] = 0\n",
    "train_data.loc[train_data['Close'] < train_data['Next_Close'], 'Signal'] = 1\n",
    "\n",
    "# 欠損値を削除（最終行のNext_CloseはNaNになるため）\n",
    "train_data.dropna(inplace=True)\n",
    "\n",
    "# 特徴量と目的変数の定義\n",
    "X = train_data[['SMA20', 'Upper Band', 'Lower Band']]\n",
    "y = train_data['Signal']\n",
    "\n",
    "# 学習データと検証データに分割\n",
    "X_train, X_val, y_train, y_val = train_test_split(X, y, test_size=0.2, random_state=42)\n",
    "\n",
    "# モデルの構築と学習\n",
    "model = RandomForestClassifier(n_estimators=100, random_state=42)\n",
    "model.fit(X_train, y_train)\n",
    "\n",
    "# 検証データでの予測と評価\n",
    "y_pred = model.predict(X_val)\n",
    "print(\"Accuracy:\", accuracy_score(y_val, y_pred))\n",
    "\n",
    "# テストデータにもボリンジャーバンドを適用\n",
    "test_data['SMA20'] = test_data['Close'].rolling(window=20).mean()\n",
    "test_data['STD20'] = test_data['Close'].rolling(window=20).std()\n",
    "test_data['Upper Band'] = test_data['SMA20'] + (test_data['STD20'] * 2)\n",
    "test_data['Lower Band'] = test_data['SMA20'] - (test_data['STD20'] * 2)\n",
    "\n",
    "# 欠損値が発生している2~20行目のデータに対する処理\n",
    "missing_rows = test_data.iloc[1:20].copy()  # 2行目から20行目をコピー\n",
    "\n",
    "# 2~20行目にボリンジャーバンドの計算を適用\n",
    "missing_rows['SMA20'] = missing_rows['Close'].rolling(window=20, min_periods=1).mean()\n",
    "missing_rows['STD20'] = missing_rows['Close'].rolling(window=20, min_periods=1).std()\n",
    "missing_rows['Upper Band'] = missing_rows['SMA20'] + (missing_rows['STD20'] * 2)\n",
    "missing_rows['Lower Band'] = missing_rows['SMA20'] - (missing_rows['STD20'] * 2)\n",
    "\n",
    "# 欠損値が残っている場合、その行を削除\n",
    "missing_rows = missing_rows.dropna()\n",
    "\n",
    "# 特徴量の選択\n",
    "X_missing = missing_rows[['SMA20', 'Upper Band', 'Lower Band']]\n",
    "\n",
    "# 欠損値の予測\n",
    "if not X_missing.empty:\n",
    "    missing_pred = model.predict(X_missing)\n",
    "    # 欠損した行の予測結果を表示\n",
    "    missing_results = pd.DataFrame({'Date': missing_rows['Date'], 'Predicted_Signal': missing_pred})\n",
    "    print(missing_results)\n",
    "else:\n",
    "    print(\"対象の行がないため、予測をスキップします。\")\n"
   ]
  },
  {
   "cell_type": "code",
   "execution_count": 25,
   "metadata": {},
   "outputs": [
    {
     "name": "stdout",
     "output_type": "stream",
     "text": [
      "     2012-03-05  1\n",
      "0    2012-03-09  1\n",
      "1    2012-03-23  0\n",
      "2    2012-04-09  0\n",
      "3    2012-04-23  0\n",
      "4    2012-05-07  0\n",
      "..          ... ..\n",
      "192  2019-10-25  1\n",
      "193  2019-11-08  1\n",
      "194  2019-11-22  1\n",
      "195  2019-12-09  1\n",
      "196  2019-12-23  1\n",
      "\n",
      "[197 rows x 2 columns]\n"
     ]
    }
   ],
   "source": [
    "import pandas as pd\n",
    "\n",
    "# submission_bollinger.csvの読み込み\n",
    "submission_path = '/home-asustor/teramoto/SIGNATE/EX/StockPrice_prediction/data/submission_bollinger.csv'\n",
    "submission = pd.read_csv(submission_path)\n",
    "\n",
    "# 5, 11, 17...行目を抽出\n",
    "filtered_submission = submission.iloc[3::6, :].reset_index(drop=True)\n",
    "\n",
    "# 新しいファイルに保存\n",
    "new_submission_path = '/home-asustor/teramoto/SIGNATE/EX/StockPrice_prediction/data/submission_bollinger_filtered.csv'\n",
    "filtered_submission.to_csv(new_submission_path, index=False)\n",
    "\n",
    "# 結果を表示\n",
    "print(filtered_submission)\n",
    "\n"
   ]
  }
 ],
 "metadata": {
  "kernelspec": {
   "display_name": "detectron2",
   "language": "python",
   "name": "python3"
  },
  "language_info": {
   "codemirror_mode": {
    "name": "ipython",
    "version": 3
   },
   "file_extension": ".py",
   "mimetype": "text/x-python",
   "name": "python",
   "nbconvert_exporter": "python",
   "pygments_lexer": "ipython3",
   "version": "3.8.19"
  }
 },
 "nbformat": 4,
 "nbformat_minor": 2
}
